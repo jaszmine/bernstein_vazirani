{
  "cells": [
    {
      "cell_type": "markdown",
      "metadata": {
        "id": "view-in-github",
        "colab_type": "text"
      },
      "source": [
        "<a href=\"https://colab.research.google.com/github/jaszmine/bernstein_vazirani/blob/main/bernstein_vazirani.ipynb\" target=\"_parent\"><img src=\"https://colab.research.google.com/assets/colab-badge.svg\" alt=\"Open In Colab\"/></a>"
      ]
    },
    {
      "cell_type": "code",
      "execution_count": 20,
      "id": "503840be-af65-4d85-b47b-d44ea3f21f80",
      "metadata": {
        "tags": [],
        "colab": {
          "base_uri": "https://localhost:8080/"
        },
        "id": "503840be-af65-4d85-b47b-d44ea3f21f80",
        "outputId": "4604164f-61d9-486a-bbec-721e6ed1c0c5"
      },
      "outputs": [
        {
          "output_type": "stream",
          "name": "stdout",
          "text": [
            "Requirement already satisfied: qiskit in /usr/local/lib/python3.10/dist-packages (0.43.2)\n",
            "Requirement already satisfied: qiskit-terra==0.24.1 in /usr/local/lib/python3.10/dist-packages (from qiskit) (0.24.1)\n",
            "Requirement already satisfied: qiskit-aer==0.12.1 in /usr/local/lib/python3.10/dist-packages (from qiskit) (0.12.1)\n",
            "Requirement already satisfied: qiskit-ibmq-provider==0.20.2 in /usr/local/lib/python3.10/dist-packages (from qiskit) (0.20.2)\n",
            "Requirement already satisfied: numpy>=1.16.3 in /usr/local/lib/python3.10/dist-packages (from qiskit-aer==0.12.1->qiskit) (1.22.4)\n",
            "Requirement already satisfied: scipy>=1.0 in /usr/local/lib/python3.10/dist-packages (from qiskit-aer==0.12.1->qiskit) (1.10.1)\n",
            "Requirement already satisfied: requests>=2.19 in /usr/local/lib/python3.10/dist-packages (from qiskit-ibmq-provider==0.20.2->qiskit) (2.27.1)\n",
            "Requirement already satisfied: requests-ntlm<=1.1.0 in /usr/local/lib/python3.10/dist-packages (from qiskit-ibmq-provider==0.20.2->qiskit) (1.1.0)\n",
            "Requirement already satisfied: urllib3>=1.21.1 in /usr/local/lib/python3.10/dist-packages (from qiskit-ibmq-provider==0.20.2->qiskit) (1.26.16)\n",
            "Requirement already satisfied: python-dateutil>=2.8.0 in /usr/local/lib/python3.10/dist-packages (from qiskit-ibmq-provider==0.20.2->qiskit) (2.8.2)\n",
            "Requirement already satisfied: websocket-client>=1.5.1 in /usr/local/lib/python3.10/dist-packages (from qiskit-ibmq-provider==0.20.2->qiskit) (1.6.1)\n",
            "Requirement already satisfied: websockets>=10.0 in /usr/local/lib/python3.10/dist-packages (from qiskit-ibmq-provider==0.20.2->qiskit) (11.0.3)\n",
            "Requirement already satisfied: rustworkx>=0.12.0 in /usr/local/lib/python3.10/dist-packages (from qiskit-terra==0.24.1->qiskit) (0.13.0)\n",
            "Requirement already satisfied: ply>=3.10 in /usr/local/lib/python3.10/dist-packages (from qiskit-terra==0.24.1->qiskit) (3.11)\n",
            "Requirement already satisfied: psutil>=5 in /usr/local/lib/python3.10/dist-packages (from qiskit-terra==0.24.1->qiskit) (5.9.5)\n",
            "Requirement already satisfied: sympy>=1.3 in /usr/local/lib/python3.10/dist-packages (from qiskit-terra==0.24.1->qiskit) (1.11.1)\n",
            "Requirement already satisfied: dill>=0.3 in /usr/local/lib/python3.10/dist-packages (from qiskit-terra==0.24.1->qiskit) (0.3.6)\n",
            "Requirement already satisfied: stevedore>=3.0.0 in /usr/local/lib/python3.10/dist-packages (from qiskit-terra==0.24.1->qiskit) (5.1.0)\n",
            "Requirement already satisfied: symengine<0.10,>=0.9 in /usr/local/lib/python3.10/dist-packages (from qiskit-terra==0.24.1->qiskit) (0.9.2)\n",
            "Requirement already satisfied: six>=1.5 in /usr/local/lib/python3.10/dist-packages (from python-dateutil>=2.8.0->qiskit-ibmq-provider==0.20.2->qiskit) (1.16.0)\n",
            "Requirement already satisfied: certifi>=2017.4.17 in /usr/local/lib/python3.10/dist-packages (from requests>=2.19->qiskit-ibmq-provider==0.20.2->qiskit) (2023.5.7)\n",
            "Requirement already satisfied: charset-normalizer~=2.0.0 in /usr/local/lib/python3.10/dist-packages (from requests>=2.19->qiskit-ibmq-provider==0.20.2->qiskit) (2.0.12)\n",
            "Requirement already satisfied: idna<4,>=2.5 in /usr/local/lib/python3.10/dist-packages (from requests>=2.19->qiskit-ibmq-provider==0.20.2->qiskit) (3.4)\n",
            "Requirement already satisfied: ntlm-auth>=1.0.2 in /usr/local/lib/python3.10/dist-packages (from requests-ntlm<=1.1.0->qiskit-ibmq-provider==0.20.2->qiskit) (1.5.0)\n",
            "Requirement already satisfied: cryptography>=1.3 in /usr/local/lib/python3.10/dist-packages (from requests-ntlm<=1.1.0->qiskit-ibmq-provider==0.20.2->qiskit) (41.0.2)\n",
            "Requirement already satisfied: pbr!=2.1.0,>=2.0.0 in /usr/local/lib/python3.10/dist-packages (from stevedore>=3.0.0->qiskit-terra==0.24.1->qiskit) (5.11.1)\n",
            "Requirement already satisfied: mpmath>=0.19 in /usr/local/lib/python3.10/dist-packages (from sympy>=1.3->qiskit-terra==0.24.1->qiskit) (1.3.0)\n",
            "Requirement already satisfied: cffi>=1.12 in /usr/local/lib/python3.10/dist-packages (from cryptography>=1.3->requests-ntlm<=1.1.0->qiskit-ibmq-provider==0.20.2->qiskit) (1.15.1)\n",
            "Requirement already satisfied: pycparser in /usr/local/lib/python3.10/dist-packages (from cffi>=1.12->cryptography>=1.3->requests-ntlm<=1.1.0->qiskit-ibmq-provider==0.20.2->qiskit) (2.21)\n"
          ]
        }
      ],
      "source": [
        "!pip install qiskit\n",
        "\n",
        "# Importing standard Qiskit libraries\n",
        "# from qiskit import QuantumCircuit, transpile\n",
        "from qiskit import *\n",
        "from qiskit.tools.jupyter import *\n",
        "from qiskit.visualization import *\n",
        "#from ibm_quantum_widgets import *\n",
        "\n",
        "#from qiskit_ibm_runtime import QiskitRuntimeService, Sampler, Estimator, Session, Options\n",
        "\n",
        "# Loading IBM Quantum account(s)\n",
        "#service = QiskitRuntimeService(channel=\"ibm_quantum\")"
      ]
    },
    {
      "cell_type": "code",
      "execution_count": null,
      "id": "b7e33e73-ee62-4a8c-a340-34b4b71e453e",
      "metadata": {
        "tags": [],
        "id": "b7e33e73-ee62-4a8c-a340-34b4b71e453e",
        "outputId": "6a8a9e14-0e8d-43db-e593-0dd325cc63a8"
      },
      "outputs": [
        {
          "data": {
            "text/plain": [
              "\"\\n# implementation of the Bernstein-Vazirini quantum algorithm\\n# for n=4 qubits with the secret string 1011\\n\\n# example of a quantum algorithm that outperforms classical methods\\n# we put secret string in a box (function)\\n# determining what's inside the box \\n# computer guesses secret number \\n\\n# classically, comp will apply AND operations by guessing the num of bits tries\\n\""
            ]
          },
          "execution_count": 64,
          "metadata": {},
          "output_type": "execute_result"
        }
      ],
      "source": [
        "'''\n",
        "implementation of the Bernstein-Vazirani quantum algorithm\n",
        "for n=4 qubits with the secret string 1011\n",
        "\n",
        "example of a quantum algorithm that outperforms classical methods\n",
        "we put secret string in a box (function)\n",
        "determining what's inside the box\n",
        "computer guesses secret number\n",
        "\n",
        "classically,\n",
        "- can apply AND operations by guessing n attempts\n",
        "- or exponentially: for n-bit secretNum, tries from 0 to 2^n-1\n",
        "\n",
        "using Bernstein-Vazirani's alg\n",
        "- finds secretNum in 1 attempt (regardless of secretNum size)\n",
        "\n",
        "reference: https://github.com/qiskit-community/qiskit-community-tutorials/blob/master/Coding_With_Qiskit/ep6_Bernstein-Vazirani_Algorithm.ipynb\n",
        "'''"
      ]
    },
    {
      "cell_type": "code",
      "execution_count": null,
      "id": "5d2d9f3a-fab2-4af5-be03-3c7d3cb50cf2",
      "metadata": {
        "id": "5d2d9f3a-fab2-4af5-be03-3c7d3cb50cf2"
      },
      "outputs": [],
      "source": [
        "'''\n",
        "Algorithm\n",
        "\n",
        "1. initialize 1st n qubits in |0> state, & last qubit in |1> state\n",
        "2. apply Hadamard gates to all qubits\n",
        "3. build oracle (box containing secret number)\n",
        "4. measure the 1st n qubits in the Bell basis (applying h gates before measurements)\n",
        "'''"
      ]
    },
    {
      "cell_type": "code",
      "execution_count": 3,
      "id": "e6c2025f-a8ad-42bc-bc17-8dff33cb9c5b",
      "metadata": {
        "tags": [],
        "id": "e6c2025f-a8ad-42bc-bc17-8dff33cb9c5b"
      },
      "outputs": [],
      "source": [
        "secretNum = '1011'"
      ]
    },
    {
      "cell_type": "code",
      "execution_count": 21,
      "id": "2294da43-b428-41b3-85c4-3a072be1db32",
      "metadata": {
        "tags": [],
        "colab": {
          "base_uri": "https://localhost:8080/",
          "height": 217
        },
        "id": "2294da43-b428-41b3-85c4-3a072be1db32",
        "outputId": "79eda829-1192-423d-fb99-127357a386da"
      },
      "outputs": [
        {
          "output_type": "execute_result",
          "data": {
            "text/plain": [
              "     ┌───┐      ░                 ░ ┌───┐ ░ ┌─┐         \n",
              "q_0: ┤ H ├──────░─────────────■───░─┤ H ├─░─┤M├─────────\n",
              "     ├───┤      ░             │   ░ ├───┤ ░ └╥┘┌─┐      \n",
              "q_1: ┤ H ├──────░────────■────┼───░─┤ H ├─░──╫─┤M├──────\n",
              "     ├───┤      ░        │    │   ░ ├───┤ ░  ║ └╥┘┌─┐   \n",
              "q_2: ┤ H ├──────░────────┼────┼───░─┤ H ├─░──╫──╫─┤M├───\n",
              "     ├───┤      ░        │    │   ░ ├───┤ ░  ║  ║ └╥┘┌─┐\n",
              "q_3: ┤ H ├──────░───■────┼────┼───░─┤ H ├─░──╫──╫──╫─┤M├\n",
              "     ├───┤┌───┐ ░ ┌─┴─┐┌─┴─┐┌─┴─┐ ░ └───┘ ░  ║  ║  ║ └╥┘\n",
              "q_4: ┤ X ├┤ H ├─░─┤ X ├┤ X ├┤ X ├─░───────░──╫──╫──╫──╫─\n",
              "     └───┘└───┘ ░ └───┘└───┘└───┘ ░       ░  ║  ║  ║  ║ \n",
              "c: 4/════════════════════════════════════════╩══╩══╩══╩═\n",
              "                                             0  1  2  3 "
            ],
            "text/html": [
              "<pre style=\"word-wrap: normal;white-space: pre;background: #fff0;line-height: 1.1;font-family: &quot;Courier New&quot;,Courier,monospace\">     ┌───┐      ░                 ░ ┌───┐ ░ ┌─┐         \n",
              "q_0: ┤ H ├──────░─────────────■───░─┤ H ├─░─┤M├─────────\n",
              "     ├───┤      ░             │   ░ ├───┤ ░ └╥┘┌─┐      \n",
              "q_1: ┤ H ├──────░────────■────┼───░─┤ H ├─░──╫─┤M├──────\n",
              "     ├───┤      ░        │    │   ░ ├───┤ ░  ║ └╥┘┌─┐   \n",
              "q_2: ┤ H ├──────░────────┼────┼───░─┤ H ├─░──╫──╫─┤M├───\n",
              "     ├───┤      ░        │    │   ░ ├───┤ ░  ║  ║ └╥┘┌─┐\n",
              "q_3: ┤ H ├──────░───■────┼────┼───░─┤ H ├─░──╫──╫──╫─┤M├\n",
              "     ├───┤┌───┐ ░ ┌─┴─┐┌─┴─┐┌─┴─┐ ░ └───┘ ░  ║  ║  ║ └╥┘\n",
              "q_4: ┤ X ├┤ H ├─░─┤ X ├┤ X ├┤ X ├─░───────░──╫──╫──╫──╫─\n",
              "     └───┘└───┘ ░ └───┘└───┘└───┘ ░       ░  ║  ║  ║  ║ \n",
              "c: 4/════════════════════════════════════════╩══╩══╩══╩═\n",
              "                                             0  1  2  3 </pre>"
            ]
          },
          "metadata": {},
          "execution_count": 21
        }
      ],
      "source": [
        "qc = QuantumCircuit(4+1, 4)\n",
        "\n",
        "qc.h([0, 1, 2, 3])\n",
        "qc.x(4)\n",
        "qc.h(4)\n",
        "\n",
        "# for every 1 in the secretNum, apply cx gate\n",
        "qc.barrier()\n",
        "qc.cx(3, 4)\n",
        "qc.cx(1, 4)\n",
        "qc.cx(0, 4)\n",
        "\n",
        "# to see what the secretNum is, can read 1 when ther's a cx and 0 when not\n",
        "\n",
        "qc.barrier()\n",
        "qc.h([0, 1, 2, 3])\n",
        "\n",
        "qc.barrier()\n",
        "qc.measure([0, 1, 2, 3], [0, 1, 2, 3])\n",
        "\n",
        "qc.draw()"
      ]
    },
    {
      "cell_type": "code",
      "execution_count": 22,
      "id": "e9bcfdd7-6b88-4fdb-8a16-6ded49723ee0",
      "metadata": {
        "tags": [],
        "colab": {
          "base_uri": "https://localhost:8080/"
        },
        "id": "e9bcfdd7-6b88-4fdb-8a16-6ded49723ee0",
        "outputId": "b402a448-5938-4dcf-ea2a-3f6f4f0ccb2d"
      },
      "outputs": [
        {
          "output_type": "stream",
          "name": "stdout",
          "text": [
            "{'1011': 1}\n"
          ]
        }
      ],
      "source": [
        "sim = Aer.get_backend('qasm_simulator')\n",
        "result = execute(qc, backend=sim, shots=1).result()\n",
        "counts = result.get_counts()\n",
        "print(counts)"
      ]
    },
    {
      "cell_type": "code",
      "execution_count": null,
      "id": "d9887551-1bb7-4fe3-856a-e26732f506a3",
      "metadata": {
        "id": "d9887551-1bb7-4fe3-856a-e26732f506a3"
      },
      "outputs": [],
      "source": [
        "# making code applicable to any secret number"
      ]
    },
    {
      "cell_type": "code",
      "execution_count": 6,
      "id": "d4538551-cb2c-4b71-8449-4bb7163a29b1",
      "metadata": {
        "tags": [],
        "id": "d4538551-cb2c-4b71-8449-4bb7163a29b1"
      },
      "outputs": [],
      "source": [
        "secretNum = '10111100101'"
      ]
    },
    {
      "cell_type": "code",
      "execution_count": 7,
      "id": "7d6b8de7-8598-4af0-ad7b-a20168a10ae1",
      "metadata": {
        "tags": [],
        "colab": {
          "base_uri": "https://localhost:8080/",
          "height": 849
        },
        "id": "7d6b8de7-8598-4af0-ad7b-a20168a10ae1",
        "outputId": "cad575e9-6a70-4015-9fea-69c24a344457"
      },
      "outputs": [
        {
          "output_type": "execute_result",
          "data": {
            "text/plain": [
              "      ┌───┐      ░                                     ░ ┌───┐ ░ ┌─┐         »\n",
              " q_0: ┤ H ├──────░───■─────────────────────────────────░─┤ H ├─░─┤M├─────────»\n",
              "      ├───┤      ░   │                                 ░ ├───┤ ░ └╥┘┌─┐      »\n",
              " q_1: ┤ H ├──────░───┼─────────────────────────────────░─┤ H ├─░──╫─┤M├──────»\n",
              "      ├───┤      ░   │                                 ░ ├───┤ ░  ║ └╥┘┌─┐   »\n",
              " q_2: ┤ H ├──────░───┼────■────────────────────────────░─┤ H ├─░──╫──╫─┤M├───»\n",
              "      ├───┤      ░   │    │                            ░ ├───┤ ░  ║  ║ └╥┘┌─┐»\n",
              " q_3: ┤ H ├──────░───┼────┼────────────────────────────░─┤ H ├─░──╫──╫──╫─┤M├»\n",
              "      ├───┤      ░   │    │                            ░ ├───┤ ░  ║  ║  ║ └╥┘»\n",
              " q_4: ┤ H ├──────░───┼────┼────────────────────────────░─┤ H ├─░──╫──╫──╫──╫─»\n",
              "      ├───┤      ░   │    │                            ░ ├───┤ ░  ║  ║  ║  ║ »\n",
              " q_5: ┤ H ├──────░───┼────┼────■───────────────────────░─┤ H ├─░──╫──╫──╫──╫─»\n",
              "      ├───┤      ░   │    │    │                       ░ ├───┤ ░  ║  ║  ║  ║ »\n",
              " q_6: ┤ H ├──────░───┼────┼────┼────■──────────────────░─┤ H ├─░──╫──╫──╫──╫─»\n",
              "      ├───┤      ░   │    │    │    │                  ░ ├───┤ ░  ║  ║  ║  ║ »\n",
              " q_7: ┤ H ├──────░───┼────┼────┼────┼────■─────────────░─┤ H ├─░──╫──╫──╫──╫─»\n",
              "      ├───┤      ░   │    │    │    │    │             ░ ├───┤ ░  ║  ║  ║  ║ »\n",
              " q_8: ┤ H ├──────░───┼────┼────┼────┼────┼────■────────░─┤ H ├─░──╫──╫──╫──╫─»\n",
              "      ├───┤      ░   │    │    │    │    │    │        ░ ├───┤ ░  ║  ║  ║  ║ »\n",
              " q_9: ┤ H ├──────░───┼────┼────┼────┼────┼────┼────────░─┤ H ├─░──╫──╫──╫──╫─»\n",
              "      ├───┤      ░   │    │    │    │    │    │        ░ ├───┤ ░  ║  ║  ║  ║ »\n",
              "q_10: ┤ H ├──────░───┼────┼────┼────┼────┼────┼────■───░─┤ H ├─░──╫──╫──╫──╫─»\n",
              "      ├───┤┌───┐ ░ ┌─┴─┐┌─┴─┐┌─┴─┐┌─┴─┐┌─┴─┐┌─┴─┐┌─┴─┐ ░ └───┘ ░  ║  ║  ║  ║ »\n",
              "q_11: ┤ X ├┤ H ├─░─┤ X ├┤ X ├┤ X ├┤ X ├┤ X ├┤ X ├┤ X ├─░───────░──╫──╫──╫──╫─»\n",
              "      └───┘└───┘ ░ └───┘└───┘└───┘└───┘└───┘└───┘└───┘ ░       ░  ║  ║  ║  ║ »\n",
              "c: 11/════════════════════════════════════════════════════════════╩══╩══╩══╩═»\n",
              "                                                                  0  1  2  3 »\n",
              "«                           \n",
              "« q_0: ─────────────────────\n",
              "«                           \n",
              "« q_1: ─────────────────────\n",
              "«                           \n",
              "« q_2: ─────────────────────\n",
              "«                           \n",
              "« q_3: ─────────────────────\n",
              "«      ┌─┐                  \n",
              "« q_4: ┤M├──────────────────\n",
              "«      └╥┘┌─┐               \n",
              "« q_5: ─╫─┤M├───────────────\n",
              "«       ║ └╥┘┌─┐            \n",
              "« q_6: ─╫──╫─┤M├────────────\n",
              "«       ║  ║ └╥┘┌─┐         \n",
              "« q_7: ─╫──╫──╫─┤M├─────────\n",
              "«       ║  ║  ║ └╥┘┌─┐      \n",
              "« q_8: ─╫──╫──╫──╫─┤M├──────\n",
              "«       ║  ║  ║  ║ └╥┘┌─┐   \n",
              "« q_9: ─╫──╫──╫──╫──╫─┤M├───\n",
              "«       ║  ║  ║  ║  ║ └╥┘┌─┐\n",
              "«q_10: ─╫──╫──╫──╫──╫──╫─┤M├\n",
              "«       ║  ║  ║  ║  ║  ║ └╥┘\n",
              "«q_11: ─╫──╫──╫──╫──╫──╫──╫─\n",
              "«       ║  ║  ║  ║  ║  ║  ║ \n",
              "«c: 11/═╩══╩══╩══╩══╩══╩══╩═\n",
              "«       4  5  6  7  8  9  10"
            ],
            "text/html": [
              "<pre style=\"word-wrap: normal;white-space: pre;background: #fff0;line-height: 1.1;font-family: &quot;Courier New&quot;,Courier,monospace\">      ┌───┐      ░                                     ░ ┌───┐ ░ ┌─┐         »\n",
              " q_0: ┤ H ├──────░───■─────────────────────────────────░─┤ H ├─░─┤M├─────────»\n",
              "      ├───┤      ░   │                                 ░ ├───┤ ░ └╥┘┌─┐      »\n",
              " q_1: ┤ H ├──────░───┼─────────────────────────────────░─┤ H ├─░──╫─┤M├──────»\n",
              "      ├───┤      ░   │                                 ░ ├───┤ ░  ║ └╥┘┌─┐   »\n",
              " q_2: ┤ H ├──────░───┼────■────────────────────────────░─┤ H ├─░──╫──╫─┤M├───»\n",
              "      ├───┤      ░   │    │                            ░ ├───┤ ░  ║  ║ └╥┘┌─┐»\n",
              " q_3: ┤ H ├──────░───┼────┼────────────────────────────░─┤ H ├─░──╫──╫──╫─┤M├»\n",
              "      ├───┤      ░   │    │                            ░ ├───┤ ░  ║  ║  ║ └╥┘»\n",
              " q_4: ┤ H ├──────░───┼────┼────────────────────────────░─┤ H ├─░──╫──╫──╫──╫─»\n",
              "      ├───┤      ░   │    │                            ░ ├───┤ ░  ║  ║  ║  ║ »\n",
              " q_5: ┤ H ├──────░───┼────┼────■───────────────────────░─┤ H ├─░──╫──╫──╫──╫─»\n",
              "      ├───┤      ░   │    │    │                       ░ ├───┤ ░  ║  ║  ║  ║ »\n",
              " q_6: ┤ H ├──────░───┼────┼────┼────■──────────────────░─┤ H ├─░──╫──╫──╫──╫─»\n",
              "      ├───┤      ░   │    │    │    │                  ░ ├───┤ ░  ║  ║  ║  ║ »\n",
              " q_7: ┤ H ├──────░───┼────┼────┼────┼────■─────────────░─┤ H ├─░──╫──╫──╫──╫─»\n",
              "      ├───┤      ░   │    │    │    │    │             ░ ├───┤ ░  ║  ║  ║  ║ »\n",
              " q_8: ┤ H ├──────░───┼────┼────┼────┼────┼────■────────░─┤ H ├─░──╫──╫──╫──╫─»\n",
              "      ├───┤      ░   │    │    │    │    │    │        ░ ├───┤ ░  ║  ║  ║  ║ »\n",
              " q_9: ┤ H ├──────░───┼────┼────┼────┼────┼────┼────────░─┤ H ├─░──╫──╫──╫──╫─»\n",
              "      ├───┤      ░   │    │    │    │    │    │        ░ ├───┤ ░  ║  ║  ║  ║ »\n",
              "q_10: ┤ H ├──────░───┼────┼────┼────┼────┼────┼────■───░─┤ H ├─░──╫──╫──╫──╫─»\n",
              "      ├───┤┌───┐ ░ ┌─┴─┐┌─┴─┐┌─┴─┐┌─┴─┐┌─┴─┐┌─┴─┐┌─┴─┐ ░ └───┘ ░  ║  ║  ║  ║ »\n",
              "q_11: ┤ X ├┤ H ├─░─┤ X ├┤ X ├┤ X ├┤ X ├┤ X ├┤ X ├┤ X ├─░───────░──╫──╫──╫──╫─»\n",
              "      └───┘└───┘ ░ └───┘└───┘└───┘└───┘└───┘└───┘└───┘ ░       ░  ║  ║  ║  ║ »\n",
              "c: 11/════════════════════════════════════════════════════════════╩══╩══╩══╩═»\n",
              "                                                                  0  1  2  3 »\n",
              "«                           \n",
              "« q_0: ─────────────────────\n",
              "«                           \n",
              "« q_1: ─────────────────────\n",
              "«                           \n",
              "« q_2: ─────────────────────\n",
              "«                           \n",
              "« q_3: ─────────────────────\n",
              "«      ┌─┐                  \n",
              "« q_4: ┤M├──────────────────\n",
              "«      └╥┘┌─┐               \n",
              "« q_5: ─╫─┤M├───────────────\n",
              "«       ║ └╥┘┌─┐            \n",
              "« q_6: ─╫──╫─┤M├────────────\n",
              "«       ║  ║ └╥┘┌─┐         \n",
              "« q_7: ─╫──╫──╫─┤M├─────────\n",
              "«       ║  ║  ║ └╥┘┌─┐      \n",
              "« q_8: ─╫──╫──╫──╫─┤M├──────\n",
              "«       ║  ║  ║  ║ └╥┘┌─┐   \n",
              "« q_9: ─╫──╫──╫──╫──╫─┤M├───\n",
              "«       ║  ║  ║  ║  ║ └╥┘┌─┐\n",
              "«q_10: ─╫──╫──╫──╫──╫──╫─┤M├\n",
              "«       ║  ║  ║  ║  ║  ║ └╥┘\n",
              "«q_11: ─╫──╫──╫──╫──╫──╫──╫─\n",
              "«       ║  ║  ║  ║  ║  ║  ║ \n",
              "«c: 11/═╩══╩══╩══╩══╩══╩══╩═\n",
              "«       4  5  6  7  8  9  10</pre>"
            ]
          },
          "metadata": {},
          "execution_count": 7
        }
      ],
      "source": [
        "# same num of classical bits as in secretNum\n",
        "qc = QuantumCircuit(len(secretNum)+1, len(secretNum))\n",
        "\n",
        "qc.h(range(len(secretNum)))\n",
        "qc.x(len(secretNum))\n",
        "qc.h(len(secretNum))\n",
        "\n",
        "# for every 1 in the secretNum, apply cx gate\n",
        "qc.barrier()\n",
        "\n",
        "# reversed because circuit is built top to bottom\n",
        "# if string contains 1, then aply controlled x from index of qubit to last qubit\n",
        "for ii, yesno in enumerate(reversed(secretNum)):\n",
        "    if yesno == '1':\n",
        "        qc.cx(ii, len(secretNum))\n",
        "\n",
        "\n",
        "# to see what the secretNum is, can read 1 when there's a cx and 0 when not\n",
        "\n",
        "qc.barrier()\n",
        "qc.h(range(len(secretNum)))\n",
        "\n",
        "qc.barrier()\n",
        "qc.measure(range(len(secretNum)), range(len(secretNum)))\n",
        "\n",
        "qc.draw()"
      ]
    },
    {
      "cell_type": "code",
      "execution_count": 8,
      "id": "c2746050-0546-437f-a4f7-0ddd052ee7b8",
      "metadata": {
        "tags": [],
        "id": "c2746050-0546-437f-a4f7-0ddd052ee7b8"
      },
      "outputs": [],
      "source": [
        "sim = Aer.get_backend('qasm_simulator')\n",
        "result = execute(qc, backend=sim, shots=1).result()\n",
        "counts = result.get_counts()"
      ]
    },
    {
      "cell_type": "code",
      "execution_count": 9,
      "id": "786e1ad7-d9ca-4c06-bbde-d0993001f62d",
      "metadata": {
        "tags": [],
        "colab": {
          "base_uri": "https://localhost:8080/",
          "height": 565
        },
        "id": "786e1ad7-d9ca-4c06-bbde-d0993001f62d",
        "outputId": "fef0d787-c3a4-418b-f560-3e5d37f86544"
      },
      "outputs": [
        {
          "output_type": "execute_result",
          "data": {
            "text/plain": [
              "<Figure size 700x500 with 1 Axes>"
            ],
            "image/png": "[encoded data removed]"
          },
          "metadata": {},
          "execution_count": 9
        }
      ],
      "source": [
        "# displays how 100% of the results contain the secret number\n",
        "plot_histogram(result.get_counts(qc))"
      ]
    },
    {
      "cell_type": "code",
      "execution_count": 10,
      "id": "a5f9ef9e-f0fb-40ba-a5ee-a5d4e25d1d54",
      "metadata": {
        "tags": [],
        "colab": {
          "base_uri": "https://localhost:8080/"
        },
        "id": "a5f9ef9e-f0fb-40ba-a5ee-a5d4e25d1d54",
        "outputId": "197f6215-612d-45c2-a0c0-5592f9c6606a"
      },
      "outputs": [
        {
          "output_type": "stream",
          "name": "stdout",
          "text": [
            "{'10111100101': 1}\n"
          ]
        }
      ],
      "source": [
        "# returns the secret number in number of rounds\n",
        "print(counts)"
      ]
    },
    {
      "cell_type": "code",
      "execution_count": null,
      "id": "c3cfc8cb-0567-491a-8fbe-95dc36c2cbff",
      "metadata": {
        "id": "c3cfc8cb-0567-491a-8fbe-95dc36c2cbff"
      },
      "outputs": [],
      "source": []
    }
  ],
  "metadata": {
    "kernelspec": {
      "display_name": "Python 3 (ipykernel)",
      "language": "python",
      "name": "python3"
    },
    "language_info": {
      "codemirror_mode": {
        "name": "ipython",
        "version": 3
      },
      "file_extension": ".py",
      "mimetype": "text/x-python",
      "name": "python",
      "nbconvert_exporter": "python",
      "pygments_lexer": "ipython3",
      "version": "3.10.8"
    },
    "colab": {
      "provenance": [],
      "include_colab_link": true
    }
  },
  "nbformat": 4,
  "nbformat_minor": 5
}